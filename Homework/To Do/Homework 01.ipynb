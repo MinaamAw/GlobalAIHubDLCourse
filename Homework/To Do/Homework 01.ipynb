{
 "cells": [
  {
   "cell_type": "markdown",
   "metadata": {
    "id": "fdY9cWWFm2IB"
   },
   "source": [
    "# Getting familiar with Data types and Visualization"
   ]
  },
  {
   "cell_type": "markdown",
   "metadata": {
    "id": "h96AYetAoezZ"
   },
   "source": [
    "1.   Step 1: Download the dataset files belong to the following data formats from internet. The files may belong to any dataset available online.\n",
    "2.   Step 2: Read these files inside the python code. Some of the file formats cannot be read using default python packages. In this case, explore the python packages suitable for reading the files.\n",
    "3.   Step 3: Print the properties of the data files such as size, shape, dimensions, etc.\n",
    "4.   Step 4: Visualize each of these data files using graphs, diagrams, etc.\n",
    "\n",
    "\n",
    "*    Table data visualization: line graph, bar graph, histogram chart, pie chart, scatter plot\n",
    "*    Image visualization: image plot, 3d plot\n",
    "*    Video visualization: video player\n",
    "*    Audio visualization: audio player, spectrogram\n",
    "*    Text visualization: Word cloud, bubble cloud (some more in http://vallandingham.me/textvis-talk/)\n"
   ]
  },
  {
   "cell_type": "markdown",
   "metadata": {
    "id": "o_tFqA-6pDus"
   },
   "source": [
    "# Type 1\n",
    "\n",
    "### Tabular, Spreadsheet and Interchange Data Formats\n",
    "\n",
    "*   \"Table\" — generic tabular data (.dat), \"CSV\" — comma-separated values (.csv), \"TSV\" — tab-separated values (.tsv), “ARFF” - Attribute-Relation File Format (.arff) – Read and visualize the data\n",
    "*   \"XLS\" — Excel spreadsheet (.xls), \"XLSX\" — Excel 2007 format (.xlsx), \"ODS\" — OpenDocument spreadsheet (.ods), \"SXC\" — OpenOffice 1.0 spreadsheet file (.sxc), \"DIF\" — VisiCalc data interchange format (.dif) – Read and visualize the data\n",
    "*   \"JSON\" — JavaScript Object Notation (.json), \"UBJSON\" — Universal Binary JSON (.ubj), “HTML” – Hypertext Markup Language (.html), “XML” - eXtensible Markup Language (.xml)  - Read and Parse the data"
   ]
  },
  {
   "cell_type": "code",
   "execution_count": null,
   "metadata": {
    "id": "cmKLCiJgpDi-"
   },
   "outputs": [],
   "source": [
    "# Add your code here\n",
    "\n"
   ]
  },
  {
   "cell_type": "code",
   "execution_count": null,
   "metadata": {
    "id": "p2jhOFFgoa5_"
   },
   "outputs": [],
   "source": [
    "# Add your code here\n",
    "\n"
   ]
  },
  {
   "cell_type": "code",
   "execution_count": null,
   "metadata": {
    "id": "Ah12lXpPpZaO"
   },
   "outputs": [],
   "source": [
    "# Add your code here\n",
    "\n"
   ]
  },
  {
   "cell_type": "markdown",
   "metadata": {
    "id": "8KfwRMdhpoB9"
   },
   "source": [
    "# Type 2\n",
    "\n",
    "### Data File Formats\n",
    "\n",
    "*   PKL – Pickle format, HDF5, Zip, SQL, MAT, NPY, NPZ – Read and display the data"
   ]
  },
  {
   "cell_type": "code",
   "execution_count": null,
   "metadata": {
    "id": "HngUZ_p_pnn9"
   },
   "outputs": [],
   "source": [
    "# Add your code here\n",
    "\n"
   ]
  },
  {
   "cell_type": "markdown",
   "metadata": {
    "id": "b7C_T5BNpziE"
   },
   "source": [
    "# Type 3\n",
    "\n",
    "### Image Data Formats\n",
    "*   JPG, PNG, BMP, TIFF – Read and display the image\n",
    "*   3D medical Images: DICOM, MHA – Read and display the image\n"
   ]
  },
  {
   "cell_type": "code",
   "execution_count": null,
   "metadata": {
    "id": "WedzWtT5p6HG"
   },
   "outputs": [],
   "source": [
    "# Add your code here\n",
    "\n"
   ]
  },
  {
   "cell_type": "code",
   "execution_count": null,
   "metadata": {
    "id": "5TamN8Hwp7xG"
   },
   "outputs": [],
   "source": [
    "# Add your code here\n",
    "\n"
   ]
  },
  {
   "cell_type": "markdown",
   "metadata": {
    "id": "UDf_BK4hp9ae"
   },
   "source": [
    "# Type 4\n",
    "\n",
    "### Video Data Formats\n",
    "*   MP4, AVI, MPEG – Read and play the video"
   ]
  },
  {
   "cell_type": "code",
   "execution_count": null,
   "metadata": {
    "id": "oxTLDBN_p9Ow"
   },
   "outputs": [],
   "source": [
    "# Add your code here\n",
    "\n"
   ]
  },
  {
   "cell_type": "markdown",
   "metadata": {
    "id": "pu-wxpFpqGAf"
   },
   "source": [
    "# Type 5\n",
    "\n",
    "### Audio Data Formats\n",
    "*   MP3, MIDI, WAV – Read and play the audio"
   ]
  },
  {
   "cell_type": "code",
   "execution_count": null,
   "metadata": {
    "id": "iFezJV2aqHf-"
   },
   "outputs": [],
   "source": [
    "# Add your code here\n",
    "\n"
   ]
  },
  {
   "cell_type": "code",
   "execution_count": null,
   "metadata": {
    "id": "xl1gErX2qH4Y"
   },
   "outputs": [],
   "source": [
    "# Add your code here\n",
    "\n"
   ]
  },
  {
   "cell_type": "markdown",
   "metadata": {
    "id": "j8S30TSwqIdE"
   },
   "source": [
    "# Type 6\n",
    "\n",
    "### Text Data Formats\n",
    "\n",
    "*   TXT, PDF, DOC – Read and parse the data"
   ]
  },
  {
   "cell_type": "code",
   "execution_count": null,
   "metadata": {
    "id": "1Gc12ETSqdZj"
   },
   "outputs": [],
   "source": [
    "# Add your code here\n",
    "\n"
   ]
  },
  {
   "cell_type": "code",
   "execution_count": null,
   "metadata": {
    "id": "u6ihBeOtqec6"
   },
   "outputs": [],
   "source": [
    "# Add your code here\n",
    "\n"
   ]
  }
 ],
 "metadata": {
  "colab": {
   "collapsed_sections": [],
   "name": "Homework_1.ipynb",
   "provenance": []
  },
  "kernelspec": {
   "display_name": "Python 3",
   "language": "python",
   "name": "python3"
  },
  "language_info": {
   "codemirror_mode": {
    "name": "ipython",
    "version": 3
   },
   "file_extension": ".py",
   "mimetype": "text/x-python",
   "name": "python",
   "nbconvert_exporter": "python",
   "pygments_lexer": "ipython3",
   "version": "3.8.3"
  }
 },
 "nbformat": 4,
 "nbformat_minor": 1
}
